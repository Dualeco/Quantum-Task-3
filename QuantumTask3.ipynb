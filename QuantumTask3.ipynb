{
  "nbformat": 4,
  "nbformat_minor": 0,
  "metadata": {
    "colab": {
      "provenance": [],
      "collapsed_sections": []
    },
    "kernelspec": {
      "name": "python3",
      "display_name": "Python 3"
    },
    "language_info": {
      "name": "python"
    }
  },
  "cells": [
    {
      "cell_type": "code",
      "source": [
        "import pandas as pd\n",
        "import matplotlib.pyplot as plt"
      ],
      "metadata": {
        "id": "w4e3AEvNIEjb"
      },
      "execution_count": 419,
      "outputs": []
    },
    {
      "cell_type": "code",
      "source": [
        "df = pd.read_csv('internship_train.csv')"
      ],
      "metadata": {
        "id": "zbE1KCTaiMXa"
      },
      "execution_count": 420,
      "outputs": []
    },
    {
      "cell_type": "code",
      "source": [
        "df.info()"
      ],
      "metadata": {
        "id": "-VfRsg2giqd9",
        "colab": {
          "base_uri": "https://localhost:8080/"
        },
        "outputId": "48a05095-621e-4402-801b-1414df6bd2fc"
      },
      "execution_count": 475,
      "outputs": [
        {
          "output_type": "stream",
          "name": "stdout",
          "text": [
            "<class 'pandas.core.frame.DataFrame'>\n",
            "RangeIndex: 90000 entries, 0 to 89999\n",
            "Data columns (total 54 columns):\n",
            " #   Column  Non-Null Count  Dtype  \n",
            "---  ------  --------------  -----  \n",
            " 0   0       90000 non-null  int64  \n",
            " 1   1       90000 non-null  int64  \n",
            " 2   2       90000 non-null  int64  \n",
            " 3   3       90000 non-null  int64  \n",
            " 4   4       90000 non-null  int64  \n",
            " 5   5       90000 non-null  int64  \n",
            " 6   6       90000 non-null  float64\n",
            " 7   7       90000 non-null  float64\n",
            " 8   8       90000 non-null  int64  \n",
            " 9   9       90000 non-null  int64  \n",
            " 10  10      90000 non-null  int64  \n",
            " 11  11      90000 non-null  int64  \n",
            " 12  12      90000 non-null  int64  \n",
            " 13  13      90000 non-null  float64\n",
            " 14  14      90000 non-null  float64\n",
            " 15  15      90000 non-null  float64\n",
            " 16  16      90000 non-null  float64\n",
            " 17  17      90000 non-null  float64\n",
            " 18  18      90000 non-null  float64\n",
            " 19  19      90000 non-null  float64\n",
            " 20  20      90000 non-null  float64\n",
            " 21  21      90000 non-null  float64\n",
            " 22  22      90000 non-null  float64\n",
            " 23  23      90000 non-null  float64\n",
            " 24  24      90000 non-null  float64\n",
            " 25  25      90000 non-null  float64\n",
            " 26  26      90000 non-null  float64\n",
            " 27  27      90000 non-null  float64\n",
            " 28  28      90000 non-null  float64\n",
            " 29  29      90000 non-null  float64\n",
            " 30  30      90000 non-null  float64\n",
            " 31  31      90000 non-null  float64\n",
            " 32  32      90000 non-null  float64\n",
            " 33  33      90000 non-null  float64\n",
            " 34  34      90000 non-null  float64\n",
            " 35  35      90000 non-null  float64\n",
            " 36  36      90000 non-null  float64\n",
            " 37  37      90000 non-null  float64\n",
            " 38  38      90000 non-null  float64\n",
            " 39  39      90000 non-null  float64\n",
            " 40  40      90000 non-null  float64\n",
            " 41  41      90000 non-null  float64\n",
            " 42  42      90000 non-null  float64\n",
            " 43  43      90000 non-null  float64\n",
            " 44  44      90000 non-null  float64\n",
            " 45  45      90000 non-null  float64\n",
            " 46  46      90000 non-null  float64\n",
            " 47  47      90000 non-null  float64\n",
            " 48  48      90000 non-null  float64\n",
            " 49  49      90000 non-null  float64\n",
            " 50  50      90000 non-null  float64\n",
            " 51  51      90000 non-null  float64\n",
            " 52  52      90000 non-null  float64\n",
            " 53  target  90000 non-null  float64\n",
            "dtypes: float64(43), int64(11)\n",
            "memory usage: 37.1 MB\n"
          ]
        }
      ]
    },
    {
      "cell_type": "code",
      "source": [
        "from sklearn.model_selection import train_test_split\n",
        "\n",
        "train_set, test_set = train_test_split(df, test_size=0.3, random_state=87)"
      ],
      "metadata": {
        "id": "jfu3B_888I3k"
      },
      "execution_count": 422,
      "outputs": []
    },
    {
      "cell_type": "code",
      "source": [
        "X, y = train_set.drop('target', axis=1), train_set['target']\n",
        "X_test, y_test = test_set.drop('target', axis=1), test_set['target']"
      ],
      "metadata": {
        "id": "pdAiDfKaitHf"
      },
      "execution_count": 423,
      "outputs": []
    },
    {
      "cell_type": "code",
      "source": [
        "corr_matrix = df.corr()\n",
        "corr_matrix['target']"
      ],
      "metadata": {
        "id": "CO-3HuDq17BK",
        "colab": {
          "base_uri": "https://localhost:8080/"
        },
        "outputId": "e88ebb84-e1cd-4d07-8aa9-b0dae13f066d"
      },
      "execution_count": 424,
      "outputs": [
        {
          "output_type": "execute_result",
          "data": {
            "text/plain": [
              "0         0.002427\n",
              "1        -0.005545\n",
              "2         0.001003\n",
              "3         0.002807\n",
              "4        -0.001300\n",
              "5        -0.002125\n",
              "6         0.000666\n",
              "7         0.012103\n",
              "8         0.000347\n",
              "9         0.001504\n",
              "10        0.003396\n",
              "11       -0.001566\n",
              "12        0.002016\n",
              "13       -0.001009\n",
              "14       -0.000513\n",
              "15        0.001653\n",
              "16       -0.000853\n",
              "17        0.002953\n",
              "18        0.001197\n",
              "19        0.001520\n",
              "20       -0.000456\n",
              "21        0.002874\n",
              "22        0.000304\n",
              "23        0.001280\n",
              "24        0.001070\n",
              "25        0.004276\n",
              "26        0.006370\n",
              "27       -0.001459\n",
              "28        0.003451\n",
              "29       -0.004785\n",
              "30       -0.000964\n",
              "31        0.005077\n",
              "32        0.000561\n",
              "33       -0.002301\n",
              "34        0.001331\n",
              "35       -0.006267\n",
              "36        0.002624\n",
              "37        0.001642\n",
              "38       -0.003845\n",
              "39        0.006283\n",
              "40       -0.007216\n",
              "41       -0.003770\n",
              "42       -0.002876\n",
              "43        0.000489\n",
              "44        0.003092\n",
              "45       -0.000903\n",
              "46        0.001160\n",
              "47        0.000319\n",
              "48       -0.001183\n",
              "49        0.002473\n",
              "50       -0.005243\n",
              "51       -0.004507\n",
              "52       -0.001203\n",
              "target    1.000000\n",
              "Name: target, dtype: float64"
            ]
          },
          "metadata": {},
          "execution_count": 424
        }
      ]
    },
    {
      "cell_type": "markdown",
      "source": [
        "# Linear correlation between `target` and each of the features appears to be very low"
      ],
      "metadata": {
        "id": "wvBhA-JS3cXn"
      }
    },
    {
      "cell_type": "code",
      "source": [
        "X.info()"
      ],
      "metadata": {
        "id": "DwD0TP9Ctiuk",
        "colab": {
          "base_uri": "https://localhost:8080/"
        },
        "outputId": "70bacf58-4a80-4f6b-9f0c-8f3e11cb29e7"
      },
      "execution_count": 425,
      "outputs": [
        {
          "output_type": "stream",
          "name": "stdout",
          "text": [
            "<class 'pandas.core.frame.DataFrame'>\n",
            "Int64Index: 63000 entries, 53722 to 60902\n",
            "Data columns (total 53 columns):\n",
            " #   Column  Non-Null Count  Dtype  \n",
            "---  ------  --------------  -----  \n",
            " 0   0       63000 non-null  int64  \n",
            " 1   1       63000 non-null  int64  \n",
            " 2   2       63000 non-null  int64  \n",
            " 3   3       63000 non-null  int64  \n",
            " 4   4       63000 non-null  int64  \n",
            " 5   5       63000 non-null  int64  \n",
            " 6   6       63000 non-null  float64\n",
            " 7   7       63000 non-null  float64\n",
            " 8   8       63000 non-null  int64  \n",
            " 9   9       63000 non-null  int64  \n",
            " 10  10      63000 non-null  int64  \n",
            " 11  11      63000 non-null  int64  \n",
            " 12  12      63000 non-null  int64  \n",
            " 13  13      63000 non-null  float64\n",
            " 14  14      63000 non-null  float64\n",
            " 15  15      63000 non-null  float64\n",
            " 16  16      63000 non-null  float64\n",
            " 17  17      63000 non-null  float64\n",
            " 18  18      63000 non-null  float64\n",
            " 19  19      63000 non-null  float64\n",
            " 20  20      63000 non-null  float64\n",
            " 21  21      63000 non-null  float64\n",
            " 22  22      63000 non-null  float64\n",
            " 23  23      63000 non-null  float64\n",
            " 24  24      63000 non-null  float64\n",
            " 25  25      63000 non-null  float64\n",
            " 26  26      63000 non-null  float64\n",
            " 27  27      63000 non-null  float64\n",
            " 28  28      63000 non-null  float64\n",
            " 29  29      63000 non-null  float64\n",
            " 30  30      63000 non-null  float64\n",
            " 31  31      63000 non-null  float64\n",
            " 32  32      63000 non-null  float64\n",
            " 33  33      63000 non-null  float64\n",
            " 34  34      63000 non-null  float64\n",
            " 35  35      63000 non-null  float64\n",
            " 36  36      63000 non-null  float64\n",
            " 37  37      63000 non-null  float64\n",
            " 38  38      63000 non-null  float64\n",
            " 39  39      63000 non-null  float64\n",
            " 40  40      63000 non-null  float64\n",
            " 41  41      63000 non-null  float64\n",
            " 42  42      63000 non-null  float64\n",
            " 43  43      63000 non-null  float64\n",
            " 44  44      63000 non-null  float64\n",
            " 45  45      63000 non-null  float64\n",
            " 46  46      63000 non-null  float64\n",
            " 47  47      63000 non-null  float64\n",
            " 48  48      63000 non-null  float64\n",
            " 49  49      63000 non-null  float64\n",
            " 50  50      63000 non-null  float64\n",
            " 51  51      63000 non-null  float64\n",
            " 52  52      63000 non-null  float64\n",
            "dtypes: float64(42), int64(11)\n",
            "memory usage: 26.0 MB\n"
          ]
        }
      ]
    },
    {
      "cell_type": "code",
      "source": [
        "for col in X.columns:\n",
        "  plt.scatter(X[col][:1000], y[:1000], alpha=0.1)\n",
        "  plt.xlabel(col)\n",
        "  plt.ylabel('Target')\n",
        "  plt.show()\n",
        "  print(col)"
      ],
      "metadata": {
        "id": "2OgwcUCgtnxU"
      },
      "execution_count": null,
      "outputs": []
    },
    {
      "cell_type": "code",
      "source": [
        "for col in X.columns:\n",
        "  X[col].hist()\n",
        "  plt.show()\n",
        "  print(col)"
      ],
      "metadata": {
        "id": "sjzMYm70wuHZ"
      },
      "execution_count": null,
      "outputs": []
    },
    {
      "cell_type": "markdown",
      "source": [
        "# Most features seem to have a random distribution, while features `6` and `8` seem to be the only two that have a meaningful relationship with `target`"
      ],
      "metadata": {
        "id": "q0m9740bypYc"
      }
    },
    {
      "cell_type": "code",
      "source": [
        "import numpy as np\n",
        "is_any_row_value_null = np.any(X_non_random.isnull(), axis=1)\n",
        "np.any(is_any_row_value_null)"
      ],
      "metadata": {
        "id": "dqXBkcNX5XIt",
        "colab": {
          "base_uri": "https://localhost:8080/"
        },
        "outputId": "f26b2a8d-331b-410f-bd2b-dd16469a50a7"
      },
      "execution_count": 428,
      "outputs": [
        {
          "output_type": "execute_result",
          "data": {
            "text/plain": [
              "False"
            ]
          },
          "metadata": {},
          "execution_count": 428
        }
      ]
    },
    {
      "cell_type": "markdown",
      "source": [
        "#This means that there are no null values in the dataset"
      ],
      "metadata": {
        "id": "zvSh7xb-6lMs"
      }
    },
    {
      "cell_type": "markdown",
      "source": [
        "# Feature `6` seems to be continuous, while `8` looks like a one-hot feature"
      ],
      "metadata": {
        "id": "Nm2eeNvt04d2"
      }
    },
    {
      "cell_type": "markdown",
      "source": [
        "#Feature Engineering:\n",
        "\n",
        "#Since feature `6` shows a `y = x^2` relationship, we could transform it into a linear relationship by squaring `x`."
      ],
      "metadata": {
        "id": "lF35tyt9456-"
      }
    },
    {
      "cell_type": "code",
      "source": [
        "from sklearn.base import BaseEstimator, TransformerMixin\n",
        "class SquaredFeatureAdder(BaseEstimator, TransformerMixin):\n",
        "  def __init__(self, feature):\n",
        "    self.feature = feature\n",
        "  def fit(self, X, y=None):\n",
        "    return self\n",
        "  def transform(self, X, y=None):\n",
        "    squared = X[self.feature] ** 2\n",
        "    return np.c_[X, squared]"
      ],
      "metadata": {
        "id": "E_boB3RXCQb9"
      },
      "execution_count": 429,
      "outputs": []
    },
    {
      "cell_type": "code",
      "source": [
        "from sklearn.pipeline import Pipeline\n",
        "from sklearn.preprocessing import StandardScaler\n",
        "from sklearn.compose import ColumnTransformer\n",
        "\n",
        "num_pipeline = Pipeline([\n",
        "    ('squarer', SquaredFeatureAdder(feature='6')),\n",
        "    ('scaler', StandardScaler())\n",
        "])\n",
        "full_pipeline = ColumnTransformer([\n",
        "    ('num', num_pipeline, ['6']),\n",
        "    ('cat', 'passthrough', ['8'])\n",
        "])"
      ],
      "metadata": {
        "id": "uoujc2ZjBlnA"
      },
      "execution_count": 430,
      "outputs": []
    },
    {
      "cell_type": "code",
      "source": [
        "X_train_prepared = full_pipeline.fit_transform(X)\n",
        "X_test_prepared = full_pipeline.fit_transform(X_test)"
      ],
      "metadata": {
        "id": "C2CHcy5c-TW9"
      },
      "execution_count": 431,
      "outputs": []
    },
    {
      "cell_type": "code",
      "source": [
        "X_train_prepared.shape"
      ],
      "metadata": {
        "colab": {
          "base_uri": "https://localhost:8080/"
        },
        "id": "COZeb7EASqSz",
        "outputId": "4e4ebb98-164f-4cc3-9d48-56164d4e2b12"
      },
      "execution_count": 432,
      "outputs": [
        {
          "output_type": "execute_result",
          "data": {
            "text/plain": [
              "(63000, 3)"
            ]
          },
          "metadata": {},
          "execution_count": 432
        }
      ]
    },
    {
      "cell_type": "code",
      "source": [
        "from sklearn.model_selection import cross_val_score"
      ],
      "metadata": {
        "id": "4o9HIhf1-Bse"
      },
      "execution_count": 433,
      "outputs": []
    },
    {
      "cell_type": "code",
      "source": [
        "def display_scores(scores):\n",
        "    print(\"Scores: \", scores)\n",
        "    print(\"Mean: \", scores.mean())\n",
        "    print(\"Std: \", scores.std())"
      ],
      "metadata": {
        "id": "Sa_Rmc6T-eQn"
      },
      "execution_count": 434,
      "outputs": []
    },
    {
      "cell_type": "markdown",
      "source": [
        "#Let's try out Lasso, Linear and RandomForest regression"
      ],
      "metadata": {
        "id": "0vZdqybYVPCe"
      }
    },
    {
      "cell_type": "code",
      "source": [
        "from sklearn.linear_model import Lasso\n",
        "\n",
        "lasso_reg = Lasso()\n",
        "lasso_reg.fit(X_train_prepared, y)"
      ],
      "metadata": {
        "colab": {
          "base_uri": "https://localhost:8080/"
        },
        "id": "ITeOKkcu_CiQ",
        "outputId": "9ac1e97e-3eea-4675-db8c-fb9daadeb72c"
      },
      "execution_count": 435,
      "outputs": [
        {
          "output_type": "execute_result",
          "data": {
            "text/plain": [
              "Lasso()"
            ]
          },
          "metadata": {},
          "execution_count": 435
        }
      ]
    },
    {
      "cell_type": "code",
      "source": [
        "from sklearn.model_selection import GridSearchCV\n",
        "lasso_param_grid = [\n",
        "    {'alpha': [0.0001, 0.0002, 0.0005, 0.001, 0.002, 0.01]}\n",
        "]\n",
        "grid_search = GridSearchCV(lasso_reg, lasso_param_grid, cv=5, \n",
        "                           scoring='neg_mean_squared_error', return_train_score=True)"
      ],
      "metadata": {
        "id": "H0COZcTEXa_f"
      },
      "execution_count": 436,
      "outputs": []
    },
    {
      "cell_type": "code",
      "source": [
        "grid_search.fit(X_train_prepared, y)\n",
        "grid_search.best_params_"
      ],
      "metadata": {
        "colab": {
          "base_uri": "https://localhost:8080/"
        },
        "id": "AMLQa9iYYT04",
        "outputId": "8565bd1d-5db8-478a-bcba-c22cf2f92abd"
      },
      "execution_count": 437,
      "outputs": [
        {
          "output_type": "execute_result",
          "data": {
            "text/plain": [
              "{'alpha': 0.0002}"
            ]
          },
          "metadata": {},
          "execution_count": 437
        }
      ]
    },
    {
      "cell_type": "code",
      "source": [
        "lasso_score = np.sqrt(-grid_search.best_score_)"
      ],
      "metadata": {
        "id": "oLMgiHQfa9a8"
      },
      "execution_count": 438,
      "outputs": []
    },
    {
      "cell_type": "code",
      "source": [
        "lasso_reg = grid_search.best_estimator_"
      ],
      "metadata": {
        "id": "Quj7PWQ6f3ux"
      },
      "execution_count": 439,
      "outputs": []
    },
    {
      "cell_type": "code",
      "source": [
        "lasso_cv_scores = np.sqrt(-cross_val_score(lasso_reg, X_test_prepared, y_test, \n",
        "                                  scoring='neg_mean_squared_error', \n",
        "                                  cv=5))\n",
        "display_scores(lasso_cv_scores)"
      ],
      "metadata": {
        "colab": {
          "base_uri": "https://localhost:8080/"
        },
        "id": "FZ78c6cMgpYY",
        "outputId": "2a609bab-54f0-47bf-aaeb-4d0557555ff2"
      },
      "execution_count": 440,
      "outputs": [
        {
          "output_type": "stream",
          "name": "stdout",
          "text": [
            "Scores:  [0.28835506 0.28669982 0.29165345 0.28738248 0.28971015]\n",
            "Mean:  0.28876019413514475\n",
            "Std:  0.0017652603186202186\n"
          ]
        }
      ]
    },
    {
      "cell_type": "markdown",
      "source": [
        "#Linear regression without regularization:"
      ],
      "metadata": {
        "id": "YonDLFt5gC49"
      }
    },
    {
      "cell_type": "code",
      "source": [
        "from sklearn.linear_model import LinearRegression\n",
        "lin_reg = LinearRegression()\n",
        "lin_cv_scores = np.sqrt(-cross_val_score(lin_reg, X_test_prepared, y_test, \n",
        "                                  scoring='neg_mean_squared_error', \n",
        "                                  cv=5))"
      ],
      "metadata": {
        "id": "EeMWp-tw_kLO"
      },
      "execution_count": 441,
      "outputs": []
    },
    {
      "cell_type": "code",
      "source": [
        "display_scores(lin_cv_scores)"
      ],
      "metadata": {
        "colab": {
          "base_uri": "https://localhost:8080/"
        },
        "id": "bbKgJVkL_7nk",
        "outputId": "65945251-fd33-42a7-9c2c-a3278a4eca86"
      },
      "execution_count": 442,
      "outputs": [
        {
          "output_type": "stream",
          "name": "stdout",
          "text": [
            "Scores:  [0.28835766 0.28679067 0.29168315 0.28737188 0.28965617]\n",
            "Mean:  0.2887719053032212\n",
            "Std:  0.0017500997849059041\n"
          ]
        }
      ]
    },
    {
      "cell_type": "code",
      "source": [
        "from sklearn.ensemble import RandomForestRegressor\n",
        "\n",
        "tree_reg = RandomForestRegressor()\n",
        "tree_reg.fit(X_train_prepared, y)"
      ],
      "metadata": {
        "id": "fALsqenw0SvQ",
        "colab": {
          "base_uri": "https://localhost:8080/"
        },
        "outputId": "168a58a3-494d-47c4-f483-f48f951fa4dd"
      },
      "execution_count": 443,
      "outputs": [
        {
          "output_type": "execute_result",
          "data": {
            "text/plain": [
              "RandomForestRegressor()"
            ]
          },
          "metadata": {},
          "execution_count": 443
        }
      ]
    },
    {
      "cell_type": "code",
      "source": [
        "tree_cv_scores = np.sqrt(-cross_val_score(tree_reg, X_test_prepared, y_test, \n",
        "                                  scoring='neg_mean_squared_error', \n",
        "                                  cv=5))"
      ],
      "metadata": {
        "id": "48mc8HDK-Jpr"
      },
      "execution_count": 444,
      "outputs": []
    },
    {
      "cell_type": "code",
      "source": [
        "display_scores(tree_cv_scores)"
      ],
      "metadata": {
        "colab": {
          "base_uri": "https://localhost:8080/"
        },
        "id": "wso3cW9k4646",
        "outputId": "733ed303-a2bd-4730-825b-cf870923a8b1"
      },
      "execution_count": 445,
      "outputs": [
        {
          "output_type": "stream",
          "name": "stdout",
          "text": [
            "Scores:  [0.28979871 0.28822041 0.29362925 0.28921964 0.29158716]\n",
            "Mean:  0.2904910354362783\n",
            "Std:  0.0019131857938237073\n"
          ]
        }
      ]
    },
    {
      "cell_type": "code",
      "source": [
        "y.describe()"
      ],
      "metadata": {
        "id": "aMlayUmQ70e2",
        "colab": {
          "base_uri": "https://localhost:8080/"
        },
        "outputId": "765e94b4-5e83-4916-8445-4ea8339226ae"
      },
      "execution_count": 446,
      "outputs": [
        {
          "output_type": "execute_result",
          "data": {
            "text/plain": [
              "count    63000.000000\n",
              "mean        50.091696\n",
              "std         28.889634\n",
              "min          0.003404\n",
              "25%         25.193959\n",
              "50%         50.032408\n",
              "75%         75.184237\n",
              "max         99.997653\n",
              "Name: target, dtype: float64"
            ]
          },
          "metadata": {},
          "execution_count": 446
        }
      ]
    },
    {
      "cell_type": "markdown",
      "source": [
        "# It can be seen from the above that the linear models perform better than RandomForest on this dataset "
      ],
      "metadata": {
        "id": "9KxIoyGI6tcX"
      }
    },
    {
      "cell_type": "markdown",
      "source": [
        "#Let's now predict for the actual test set"
      ],
      "metadata": {
        "id": "Xj5wxFhPBACl"
      }
    },
    {
      "cell_type": "markdown",
      "source": [
        "#The scores of the Lasso and Linear regressors that were trained only become different in the 5th digit after the comma. Even though Lasso regression performs slightly worse, I'll prefer it to have a slightly less biased model."
      ],
      "metadata": {
        "id": "EtO3MdV91NEM"
      }
    },
    {
      "cell_type": "code",
      "source": [
        "X_final_test = pd.read_csv('internship_hidden_test.csv')"
      ],
      "metadata": {
        "id": "JbR8guGz7Gxc"
      },
      "execution_count": 450,
      "outputs": []
    },
    {
      "cell_type": "code",
      "source": [
        "X_final_test_prepared = full_pipeline.fit_transform(X_final_test)"
      ],
      "metadata": {
        "id": "l8MThT932SHn"
      },
      "execution_count": 451,
      "outputs": []
    },
    {
      "cell_type": "code",
      "source": [
        "final_predictions = lasso_reg.predict(X_final_test_prepared)"
      ],
      "metadata": {
        "id": "LlHQ7iw22gG2"
      },
      "execution_count": 453,
      "outputs": []
    },
    {
      "cell_type": "code",
      "source": [
        "final_predictions_df = pd.DataFrame(final_predictions, columns=['target'])\n",
        "final_predictions_df.to_csv(\"internship_hidden_test_predictions.csv\")"
      ],
      "metadata": {
        "id": "yeMPkQiu2mhf"
      },
      "execution_count": 457,
      "outputs": []
    }
  ]
}